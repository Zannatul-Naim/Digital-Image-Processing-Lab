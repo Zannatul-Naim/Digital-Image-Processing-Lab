{
 "cells": [
  {
   "cell_type": "code",
   "execution_count": null,
   "id": "0d1c610e",
   "metadata": {},
   "outputs": [],
   "source": [
    "import cv2\n",
    "import numpy as np\n",
    "import matplotlib.pyplot as plt\n",
    "from skimage.metrics import peak_signal_noise_ratio as psnr"
   ]
  },
  {
   "cell_type": "code",
   "execution_count": null,
   "id": "ec172b9f",
   "metadata": {},
   "outputs": [],
   "source": [
    "def fft_image(img):\n",
    "    return np.fft.fftshift(np.fft.fft2(img))\n",
    "\n",
    "def ifft_image(f_img):\n",
    "    return np.abs(np.fft.ifft2(np.fft.ifftshift(f_img)))"
   ]
  },
  {
   "cell_type": "code",
   "execution_count": null,
   "id": "1150e238",
   "metadata": {},
   "outputs": [],
   "source": [
    "# Load image and add Gaussian noise\n",
    "img = cv2.imread(\"Characters_Test_Pattern.tif\", cv2.IMREAD_GRAYSCALE)\n",
    "img = cv2.resize(img, (512, 512))\n",
    "noisy_img = img + np.random.normal(0, 20, img.shape)\n",
    "noisy_img = np.clip(noisy_img, 0, 255).astype(np.uint8)\n",
    "\n",
    "# FFT of noisy image\n",
    "f_img = fft_image(noisy_img)"
   ]
  },
  {
   "cell_type": "code",
   "execution_count": null,
   "id": "61362138",
   "metadata": {},
   "outputs": [],
   "source": [
    "# Plot original and noisy images\n",
    "plt.figure(figsize=(10,5))\n",
    "plt.subplot(1,2,1), \n",
    "plt.imshow(img, cmap='gray'), \n",
    "plt.title(f'Original Image (PSNR: {psnr(img, img):.2f})')\n",
    "\n",
    "plt.subplot(1,2,2), \n",
    "plt.imshow(noisy_img, cmap='gray'), \n",
    "plt.title(f'Noisy Image (PSNR: {psnr(img, noisy_img):.2f})')\n",
    "plt.tight_layout()\n",
    "plt.show()"
   ]
  },
  {
   "cell_type": "code",
   "execution_count": null,
   "id": "f8f80f73",
   "metadata": {},
   "outputs": [],
   "source": [
    "def gaussian_low_pass(shape, D0):\n",
    "    P, Q = shape\n",
    "    u = np.arange(0, P) - P // 2\n",
    "    v = np.arange(0, Q) - Q // 2\n",
    "    U, V = np.meshgrid(u, v, indexing='ij')\n",
    "    D = np.sqrt(U**2 + V**2)\n",
    "    return np.exp(-(D**2) / (2 * D0**2))\n",
    "\n",
    "def gaussian_high_pass(shape, D0):\n",
    "    return 1 - gaussian_low_pass(shape, D0)"
   ]
  },
  {
   "cell_type": "code",
   "execution_count": null,
   "id": "0b704a3f",
   "metadata": {},
   "outputs": [],
   "source": [
    "# Butterworth low-pass filter\n",
    "def butterworth_low_pass(shape, D0, n):\n",
    "    P, Q = shape\n",
    "    u = np.arange(0, P) - P // 2\n",
    "    v = np.arange(0, Q) - Q // 2\n",
    "    U, V = np.meshgrid(u, v, indexing='ij')\n",
    "    D = np.sqrt(U**2 + V**2)\n",
    "    return 1 / (1 + (D / D0)**(2 * n))"
   ]
  },
  {
   "cell_type": "code",
   "execution_count": null,
   "id": "d2dc3569",
   "metadata": {},
   "outputs": [],
   "source": [
    "def ideal_low_pass(shape, D0):\n",
    "    P, Q = shape\n",
    "    u = np.arange(0, P) - P // 2\n",
    "    v = np.arange(0, Q) - Q // 2\n",
    "    U, V = np.meshgrid(u, v, indexing='ij')\n",
    "    D = np.sqrt(U**2 + V**2)\n",
    "    return np.where(D <= D0, 1, 0)\n",
    "\n",
    "def ideal_high_pass(shape, D0):\n",
    "    return 1 - ideal_low_pass(shape, D0)\n"
   ]
  },
  {
   "cell_type": "code",
   "execution_count": null,
   "id": "b2e93ae7",
   "metadata": {},
   "outputs": [],
   "source": [
    "# (a) Butterworth & Gaussian LPF\n",
    "butter_filter = butterworth_low_pass(img.shape, D0=40, n=4)\n",
    "gauss_filter = gaussian_low_pass(img.shape, D0=40)\n",
    "\n",
    "butter_filtered = ifft_image(f_img * butter_filter)\n",
    "gauss_filtered = ifft_image(f_img * gauss_filter)\n",
    "\n",
    "# Show result\n",
    "plt.figure(figsize=(10,5))\n",
    "plt.subplot(1,2,1), \n",
    "plt.imshow(butter_filtered, cmap='gray'), \n",
    "plt.title(f'Butterworth LPF (PSNR: {psnr(img, butter_filtered):.2f})')\n",
    "\n",
    "plt.subplot(1,2,2), \n",
    "plt.imshow(gauss_filtered, cmap='gray'), \n",
    "plt.title(f'Gaussian LPF (PSNR: {psnr(img, gauss_filtered):.2f})')\n",
    "plt.tight_layout()\n",
    "plt.show()"
   ]
  },
  {
   "cell_type": "code",
   "execution_count": null,
   "id": "97cdf391",
   "metadata": {},
   "outputs": [],
   "source": [
    "# (b) Ringing with Ideal LPF\n",
    "# ringing effect obsereved when cutoff is too low\n",
    "\n",
    "i =1\n",
    "plt.figure(figsize=(10,10))\n",
    "for D0 in [10, 30, 60, 90]:\n",
    "    ideal_filter = ideal_low_pass(img.shape, D0)\n",
    "    result = ifft_image(f_img * ideal_filter)\n",
    "    plt.subplot(2, 2, i)\n",
    "    plt.imshow(result, cmap='gray')\n",
    "    plt.title(f'Ideal LPF D0={D0}')\n",
    "    plt.axis('off')\n",
    "    i += 1\n",
    "plt.tight_layout()\n",
    "plt.show()"
   ]
  },
  {
   "cell_type": "code",
   "execution_count": null,
   "id": "562916d7",
   "metadata": {},
   "outputs": [],
   "source": [
    "# (c) Edge detection with HPFs\n",
    "for name, hpf_func in [(\"Ideal\", ideal_high_pass), (\"Gaussian\", gaussian_high_pass)]:\n",
    "    for source, label in [(img, \"Original\"), (noisy_img, \"Noisy\")]:\n",
    "        f = fft_image(source)\n",
    "        hpf = hpf_func(source.shape, D0=40)\n",
    "        result = ifft_image(f * hpf)\n",
    "        plt.imshow(result, cmap='gray')\n",
    "        plt.title(f'{name} HPF on {label}')\n",
    "        plt.axis('off')\n",
    "        plt.show()"
   ]
  },
  {
   "cell_type": "code",
   "execution_count": null,
   "id": "407fa400",
   "metadata": {},
   "outputs": [],
   "source": [
    "# plt.hist(noisy_img.ravel(), bins=256, range=(0, 255), color='gray')\n",
    "# plt.title(\"Histogram of Noisy Image\")\n",
    "# plt.xlabel(\"Pixel Intensity\")\n",
    "# plt.ylabel(\"Frequency\")\n",
    "# plt.show()\n"
   ]
  },
  {
   "cell_type": "code",
   "execution_count": null,
   "id": "5af7f01a",
   "metadata": {},
   "outputs": [],
   "source": [
    "def complement(image):\n",
    "    return [[1 - pixel for pixel in row] for row in image]"
   ]
  },
  {
   "cell_type": "code",
   "execution_count": null,
   "id": "627c1d30",
   "metadata": {},
   "outputs": [],
   "source": [
    "# # (c) Edge detection with HPFs\n",
    "# for name, hpf_func in [(\"Ideal\", ideal_high_pass), (\"Gaussian\", gaussian_high_pass)]:\n",
    "#     for source, label in [(img, \"Original\"), (noisy_img, \"Noisy\")]:\n",
    "#         f1 = fft_image(source)\n",
    "#         hpf1 = hpf_func(source.shape, D0=40)\n",
    "#         result1 = ifft_image(f1 * hpf1)\n",
    "#         result_complement = complement(result1)\n",
    "#         plt.imshow(result_complement, cmap='gray')\n",
    "#         plt.title(f'{name} HPF on {label}')\n",
    "#         plt.axis('off')\n",
    "#         plt.show()"
   ]
  }
 ],
 "metadata": {
  "kernelspec": {
   "display_name": "Python 3",
   "language": "python",
   "name": "python3"
  },
  "language_info": {
   "codemirror_mode": {
    "name": "ipython",
    "version": 3
   },
   "file_extension": ".py",
   "mimetype": "text/x-python",
   "name": "python",
   "nbconvert_exporter": "python",
   "pygments_lexer": "ipython3",
   "version": "3.10.0"
  }
 },
 "nbformat": 4,
 "nbformat_minor": 5
}
